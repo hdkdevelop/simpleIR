{
 "cells": [
  {
   "cell_type": "code",
   "execution_count": 31,
   "id": "c587c767",
   "metadata": {},
   "outputs": [
    {
     "name": "stdout",
     "output_type": "stream",
     "text": [
      "cp /tmp/201411320.txt /tmp/201411320__.txt\n"
     ]
    }
   ],
   "source": [
    "#6 cp\n",
    "import sys\n",
    "\n",
    "# argv = []\n",
    "# for arg in sys.argv:\n",
    "#     argv.append(arg)\n",
    "inputStr = input()\n",
    "argv = inputStr.split()\n",
    "if argv[0] == 'cp':\n",
    "    orig = open(argv[1], 'r')\n",
    "    orig_data = orig.readlines()\n",
    "    dest = open(argv[2], 'w')\n",
    "    for line in orig_data:\n",
    "        dest.write(line)\n",
    "\n",
    "    orig.close()\n",
    "    dest.close()\n",
    "    "
   ]
  },
  {
   "cell_type": "code",
   "execution_count": 37,
   "id": "fbc51079",
   "metadata": {},
   "outputs": [
    {
     "name": "stdout",
     "output_type": "stream",
     "text": [
      "wc /tmp/201411320.txt\n",
      "line: 3\n",
      "word: 9\n"
     ]
    }
   ],
   "source": [
    "#7 wc\n",
    "import sys\n",
    "\n",
    "inputStr = input()\n",
    "argv = inputStr.split()\n",
    "if argv[0] == 'wc':\n",
    "    orig = open(argv[1], 'r')\n",
    "    orig_data = orig.readlines()\n",
    "    line_count = 0\n",
    "    word_count = 0\n",
    "    for line in orig_data:\n",
    "        line_count += 1\n",
    "        word_count += len(line.split())\n",
    "    print(\"line: \" + str(line_count))\n",
    "    print(\"word: \" + str(word_count))"
   ]
  },
  {
   "cell_type": "code",
   "execution_count": 38,
   "id": "2d40f17c",
   "metadata": {},
   "outputs": [
    {
     "name": "stdout",
     "output_type": "stream",
     "text": [
      "1 + 2 = 3 입니다.\n",
      "5 - 1 = 4 입니다.\n",
      "2 * 3 = 6 입니다.\n",
      "6 / 2 = 3.0 입니다.\n"
     ]
    }
   ],
   "source": [
    "#8 사칙 연산 클래스\n",
    "class Calc:\n",
    "    def sum(self, a, b):\n",
    "        result = a + b\n",
    "        print(\"%s + %s = %s 입니다.\" % (a, b, result))\n",
    "    def sub(self, a, b):\n",
    "        result = a - b\n",
    "        print(\"%s - %s = %s 입니다.\" % (a, b, result))\n",
    "    def multi(self, a, b):\n",
    "        result = a * b\n",
    "        print(\"%s * %s = %s 입니다.\" % (a, b, result))\n",
    "    def divi(self, a, b):\n",
    "        result = a / b\n",
    "        print(\"%s / %s = %s 입니다.\" % (a, b, result))\n",
    "        \n",
    "calc = Calc()\n",
    "calc.sum(1, 2)\n",
    "calc.sub(5, 1)\n",
    "calc.multi(2, 3)\n",
    "calc.divi(6, 2)"
   ]
  },
  {
   "cell_type": "code",
   "execution_count": 93,
   "id": "5344331a",
   "metadata": {},
   "outputs": [
    {
     "name": "stdout",
     "output_type": "stream",
     "text": [
      "계산식 입력: 1 + 2 - 3 * 4 + 5\n",
      "계산식 출력: 1 + 2 - 3 * 4 + 5 = -4\n"
     ]
    }
   ],
   "source": [
    "#9 계산기\n",
    "class Stack:\n",
    "    def __init__(self):\n",
    "        self.l = []\n",
    "    def push(self, a):\n",
    "        self.l.append(a);\n",
    "    def pop(self):\n",
    "        return self.l.pop()\n",
    "    def isEmpty(self):\n",
    "        return len(self.l) == 0\n",
    "    def size(self):\n",
    "        return len(self.l)\n",
    "\n",
    "inputStr = input(\"계산식 입력: \")\n",
    "argv = inputStr.split()\n",
    "num_st = Stack()\n",
    "op_st = Stack()\n",
    "\n",
    "for arg in argv:\n",
    "    if arg == '+' or arg == '-' or arg == '*' or arg == '/':\n",
    "        op_st.push(arg) \n",
    "    else:\n",
    "        arg = int(arg)\n",
    "        if num_st.size() < 2:\n",
    "            num_st.push(arg)\n",
    "            continue\n",
    "        op1 = op_st.pop()\n",
    "        op0 = op_st.pop()\n",
    "        num1 = num_st.pop()\n",
    "        num0 = num_st.pop()\n",
    "        if op0 == '*':\n",
    "            num_st.push(num0 * num1)\n",
    "            num_st.push(arg)\n",
    "            op_st.push(op1)\n",
    "        elif op0 == '/':\n",
    "            num_st.push(num0 / num1)\n",
    "            num_st.push(arg)\n",
    "            op_st.push(op1)\n",
    "        elif op1 == '*':\n",
    "            num_st.push(num0)\n",
    "            num_st.push(num1 * arg)\n",
    "            op_st.push(op0)\n",
    "        elif op1 == '/':\n",
    "            num_st.push(num0)\n",
    "            num_st.push(num1 / arg)\n",
    "            op_st.push(op0)\n",
    "        elif op0 == '-':\n",
    "            num_st.push(num0 - num1)\n",
    "            num_st.push(arg)\n",
    "            op_st.push(op1)\n",
    "        elif op0 == '+':\n",
    "            num_st.push(num0 + num1)\n",
    "            num_st.push(arg)\n",
    "            op_st.push(op1)\n",
    "if num_st.size() == 2:\n",
    "    op = op_st.pop()\n",
    "    num1 = num_st.pop()\n",
    "    num0 = num_st.pop()\n",
    "    if op == '*':\n",
    "        res = num0 * num1\n",
    "    elif op == '/':\n",
    "        res = num0 / num1\n",
    "    elif op == '+':\n",
    "        res = num0 + num1\n",
    "    elif op == '-':\n",
    "        res = num0 - num1\n",
    "else:\n",
    "    res = num_st.pop()\n",
    "print(\"계산식 출력: \" + inputStr + \" = \" + str(res))"
   ]
  },
  {
   "cell_type": "code",
   "execution_count": null,
   "id": "0befa66c",
   "metadata": {},
   "outputs": [],
   "source": []
  }
 ],
 "metadata": {
  "kernelspec": {
   "display_name": "Python 3",
   "language": "python",
   "name": "python3"
  },
  "language_info": {
   "codemirror_mode": {
    "name": "ipython",
    "version": 3
   },
   "file_extension": ".py",
   "mimetype": "text/x-python",
   "name": "python",
   "nbconvert_exporter": "python",
   "pygments_lexer": "ipython3",
   "version": "3.8.2"
  }
 },
 "nbformat": 4,
 "nbformat_minor": 5
}
