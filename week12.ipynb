{
 "cells": [
  {
   "cell_type": "code",
   "execution_count": 12,
   "id": "b5e55983",
   "metadata": {},
   "outputs": [
    {
     "name": "stdout",
     "output_type": "stream",
     "text": [
      "일교차가 가장 큰날\n",
      "2020.5.6\n",
      "최저기온이 가장 낮은 날\n",
      "2020.12.30\n",
      "최고기온이 가장 높은 날\n",
      "2020.6.22\n"
     ]
    }
   ],
   "source": [
    "import csv\n",
    "f = open('seoul.csv', encoding='cp949')\n",
    "data = csv.reader(f)\n",
    "header = next(data)\n",
    "maxDiff = [0, '']\n",
    "minMin = [100, '']\n",
    "maxMax = [-100, '']\n",
    "for row in data:\n",
    "    row[2] = float(row[2])\n",
    "    row[3] = float(row[3])\n",
    "    row[4] = float(row[4])\n",
    "    diff = abs(row[4]-row[3])\n",
    "    if diff > maxDiff[0] :\n",
    "        maxDiff[0] = diff\n",
    "        maxDiff[1] = row[0]\n",
    "    if row[3] < minMin[0] :\n",
    "        minMin[0] = row[3]\n",
    "        minMin[1] = row[0]\n",
    "    if row[4] > maxMax[0] :\n",
    "        maxMax[0] = row[4]\n",
    "        maxMax[1] = row[0]\n",
    "print('일교차가 가장 큰날')\n",
    "print(maxDiff[1])\n",
    "print('최저기온이 가장 낮은 날')\n",
    "print(minMin[1])\n",
    "print('최고기온이 가장 높은 날')\n",
    "print(maxMax[1])\n",
    "f.close()\n"
   ]
  },
  {
   "cell_type": "code",
   "execution_count": 16,
   "id": "bfb20d95",
   "metadata": {},
   "outputs": [
    {
     "name": "stdout",
     "output_type": "stream",
     "text": [
      "이용객이 가장 많은 역 순위\n",
      "1. 2호선-강남(2704738)\n",
      "2. 2호선-잠실(송파구청)(2279523)\n",
      "3. 2호선-신림(2131502)\n",
      "이용객이 가장 적은 역 순위\n",
      "1. 경의선-검암(1)\n",
      "2. 경의선-김포공항(1)\n",
      "3. 경의선-계양(3)\n"
     ]
    }
   ],
   "source": [
    "import csv\n",
    "f = open('subway.csv', encoding='cp949')\n",
    "data = csv.reader(f)\n",
    "header = next(data)\n",
    "datas = {}\n",
    "for row in data:\n",
    "    station = row[1] + '-' + row[2]\n",
    "    datas.setdefault(station, 0)\n",
    "    datas[station] += int(row[3])\n",
    "sortedDatas = sorted(datas.items(), key=(lambda x: x[1]))\n",
    "print('이용객이 가장 많은 역 순위')\n",
    "print('1. ' + sortedDatas[-1][0] + '(' + str(sortedDatas[-1][1]) + ')')\n",
    "print('2. ' + sortedDatas[-2][0] + '(' + str(sortedDatas[-2][1]) + ')')\n",
    "print('3. ' + sortedDatas[-3][0] + '(' + str(sortedDatas[-3][1]) + ')')\n",
    "print('이용객이 가장 적은 역 순위')\n",
    "print('1. ' + sortedDatas[0][0] + '(' + str(sortedDatas[0][1]) + ')')\n",
    "print('2. ' + sortedDatas[1][0] + '(' + str(sortedDatas[1][1]) + ')')\n",
    "print('3. ' + sortedDatas[2][0] + '(' + str(sortedDatas[2][1]) + ')')"
   ]
  },
  {
   "cell_type": "code",
   "execution_count": null,
   "id": "f7373dda",
   "metadata": {},
   "outputs": [],
   "source": []
  }
 ],
 "metadata": {
  "kernelspec": {
   "display_name": "Python 3",
   "language": "python",
   "name": "python3"
  },
  "language_info": {
   "codemirror_mode": {
    "name": "ipython",
    "version": 3
   },
   "file_extension": ".py",
   "mimetype": "text/x-python",
   "name": "python",
   "nbconvert_exporter": "python",
   "pygments_lexer": "ipython3",
   "version": "3.8.2"
  }
 },
 "nbformat": 4,
 "nbformat_minor": 5
}
