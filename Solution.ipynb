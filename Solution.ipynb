{
 "cells": [
  {
   "cell_type": "code",
   "execution_count": 33,
   "id": "a4805caa",
   "metadata": {},
   "outputs": [
    {
     "name": "stdout",
     "output_type": "stream",
     "text": [
      "(1,2)\n",
      "(3,4)\n",
      "(4,6)\n"
     ]
    }
   ],
   "source": [
    "class Point:\n",
    "    x = 0\n",
    "    y = 0\n",
    "    def __init__(self, x, y):\n",
    "        self.x = x\n",
    "        self.y = y\n",
    "    def __add__(self, point):\n",
    "        self.x += point.x\n",
    "        self.y += point.y\n",
    "        return self\n",
    "    def show(self):\n",
    "        print(\"(\" + str(self.x) + \",\" + str(self.y) + \")\")     \n",
    "a = Point(1,2)\n",
    "a.show()\n",
    "\n",
    "b = Point(3,4)\n",
    "b.show()\n",
    "\n",
    "a = a+b\n",
    "a.show()"
   ]
  },
  {
   "cell_type": "code",
   "execution_count": 20,
   "id": "4ea16e60",
   "metadata": {},
   "outputs": [
    {
     "name": "stdout",
     "output_type": "stream",
     "text": [
      "Max Week = 05/08 ~ 05/14\n"
     ]
    }
   ],
   "source": [
    "import csv\n",
    "f = open(\"./seoul.csv\", encoding=\"euc-kr\")\n",
    "data = csv.reader(f)\n",
    "next(data)\n",
    "max_diff = -100\n",
    "max_start = \"\"\n",
    "max_end = \"\"\n",
    "counter = 1\n",
    "week_diff = 0\n",
    "week_start = \"\"\n",
    "week_end = \"\"\n",
    "for row in data:\n",
    "    if counter == 1:\n",
    "        week_start = row[0]\n",
    "    week_diff = float(row[4]) - float(row[3])\n",
    "    counter += 1\n",
    "    if counter > 7:\n",
    "        week_end = row[0]\n",
    "        counter = 1\n",
    "        if max_diff < week_diff:\n",
    "            max_diff = week_diff\n",
    "            max_start = week_start\n",
    "            max_end = week_end\n",
    "print(\"Max Week = \" + max_start.split(\"-\")[1] + \"/\" + max_start.split(\"-\")[2] + \" ~ \" +\n",
    "     max_end.split(\"-\")[1] + \"/\" + max_end.split(\"-\")[2])"
   ]
  },
  {
   "cell_type": "code",
   "execution_count": 100,
   "id": "c2a35ef9",
   "metadata": {},
   "outputs": [
    {
     "data": {
      "image/png": "[encoded data removed]",
      "text/plain": [
       "<Figure size 432x288 with 1 Axes>"
      ]
     },
     "metadata": {
      "needs_background": "light"
     },
     "output_type": "display_data"
    }
   ],
   "source": [
    "import matplotlib.pyplot as plt\n",
    "import numpy as np\n",
    "docs = [[1,1,0,1,0,1], [1,1,1,0,1,0], [1,1,0,1,0,0]]\n",
    "query = [1,1,0,0,1,0]\n",
    "\n",
    "def cos(doc, query): \n",
    "    c1 = np.multiply(doc, query)\n",
    "    c2 = 0\n",
    "    for i in range(6):\n",
    "        c2 += c1[i]\n",
    "    return np.divide(c1, c2)\n",
    "\n",
    "for i in range(3):\n",
    "    plt.hist(cos(docs[i], query), label=\"doc\"+str(i+1))\n",
    "plt.show()"
   ]
  },
  {
   "cell_type": "code",
   "execution_count": null,
   "id": "51ffc12e",
   "metadata": {},
   "outputs": [],
   "source": []
  }
 ],
 "metadata": {
  "kernelspec": {
   "display_name": "Python 3",
   "language": "python",
   "name": "python3"
  },
  "language_info": {
   "codemirror_mode": {
    "name": "ipython",
    "version": 3
   },
   "file_extension": ".py",
   "mimetype": "text/x-python",
   "name": "python",
   "nbconvert_exporter": "python",
   "pygments_lexer": "ipython3",
   "version": "3.8.2"
  }
 },
 "nbformat": 4,
 "nbformat_minor": 5
}
