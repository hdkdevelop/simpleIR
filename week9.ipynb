{
 "cells": [
  {
   "cell_type": "code",
   "execution_count": 12,
   "id": "3c758d0e",
   "metadata": {},
   "outputs": [
    {
     "name": "stdout",
     "output_type": "stream",
     "text": [
      "input x: 5\n",
      "y: 253\n"
     ]
    }
   ],
   "source": [
    "x = int(input(\"input x: \"))\n",
    "y = (x*3)**2 + 5*x + 3\n",
    "print(\"y: \" +str(y))"
   ]
  },
  {
   "cell_type": "code",
   "execution_count": 13,
   "id": "bf42d7be",
   "metadata": {},
   "outputs": [
    {
     "name": "stdout",
     "output_type": "stream",
     "text": [
      "반지름: 5\n",
      "둘레: 31.400000000000002\n",
      "넓이: 78.5\n"
     ]
    }
   ],
   "source": [
    "pi = 3.14\n",
    "rad = int(input(\"반지름: \"))\n",
    "circle = rad * 2 * pi\n",
    "dim = rad * rad * pi\n",
    "print(\"둘레: \" + str(circle))\n",
    "print(\"넓이: \" + str(dim))"
   ]
  },
  {
   "cell_type": "code",
   "execution_count": null,
   "id": "6b9668f0",
   "metadata": {},
   "outputs": [],
   "source": []
  }
 ],
 "metadata": {
  "kernelspec": {
   "display_name": "Python 3",
   "language": "python",
   "name": "python3"
  },
  "language_info": {
   "codemirror_mode": {
    "name": "ipython",
    "version": 3
   },
   "file_extension": ".py",
   "mimetype": "text/x-python",
   "name": "python",
   "nbconvert_exporter": "python",
   "pygments_lexer": "ipython3",
   "version": "3.8.2"
  }
 },
 "nbformat": 4,
 "nbformat_minor": 5
}
